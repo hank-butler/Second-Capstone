{
 "cells": [
  {
   "cell_type": "code",
   "execution_count": 37,
   "metadata": {},
   "outputs": [],
   "source": [
    "from maps_api import key"
   ]
  },
  {
   "cell_type": "code",
   "execution_count": 38,
   "metadata": {},
   "outputs": [],
   "source": [
    "API_KEY = key()"
   ]
  },
  {
   "cell_type": "code",
   "execution_count": 39,
   "metadata": {},
   "outputs": [],
   "source": [
    "from googlemaps import Client as GoogleMaps"
   ]
  },
  {
   "cell_type": "code",
   "execution_count": 40,
   "metadata": {},
   "outputs": [],
   "source": [
    "import pandas as pd"
   ]
  },
  {
   "cell_type": "code",
   "execution_count": 67,
   "metadata": {},
   "outputs": [],
   "source": [
    "gmaps = GoogleMaps(str(API_KEY))"
   ]
  },
  {
   "cell_type": "code",
   "execution_count": 68,
   "metadata": {},
   "outputs": [],
   "source": [
    "import os"
   ]
  },
  {
   "cell_type": "code",
   "execution_count": 69,
   "metadata": {},
   "outputs": [],
   "source": [
    "path = os.getcwd()"
   ]
  },
  {
   "cell_type": "code",
   "execution_count": 70,
   "metadata": {},
   "outputs": [
    {
     "name": "stdout",
     "output_type": "stream",
     "text": [
      "C:\\Users\\pam\\Desktop\\Hank\\springboard\\Springboard\\second_capstone\\Second-Capstone\n"
     ]
    }
   ],
   "source": [
    "print(path)"
   ]
  },
  {
   "cell_type": "code",
   "execution_count": 75,
   "metadata": {},
   "outputs": [
    {
     "data": {
      "text/html": [
       "<div>\n",
       "<style scoped>\n",
       "    .dataframe tbody tr th:only-of-type {\n",
       "        vertical-align: middle;\n",
       "    }\n",
       "\n",
       "    .dataframe tbody tr th {\n",
       "        vertical-align: top;\n",
       "    }\n",
       "\n",
       "    .dataframe thead th {\n",
       "        text-align: right;\n",
       "    }\n",
       "</style>\n",
       "<table border=\"1\" class=\"dataframe\">\n",
       "  <thead>\n",
       "    <tr style=\"text-align: right;\">\n",
       "      <th></th>\n",
       "      <th>Name</th>\n",
       "      <th>Full_Address</th>\n",
       "    </tr>\n",
       "  </thead>\n",
       "  <tbody>\n",
       "    <tr>\n",
       "      <th>0</th>\n",
       "      <td>utexas</td>\n",
       "      <td>110 Inner Campus Drive, Austin, TX 78705, USA</td>\n",
       "    </tr>\n",
       "    <tr>\n",
       "      <th>1</th>\n",
       "      <td>austin_convention_center</td>\n",
       "      <td>500 E Cesar Chavez St, Austin, TX 78701, USA</td>\n",
       "    </tr>\n",
       "    <tr>\n",
       "      <th>2</th>\n",
       "      <td>zilker_park</td>\n",
       "      <td>2100 Barton Springs Rd, Austin, TX 78704, USA</td>\n",
       "    </tr>\n",
       "    <tr>\n",
       "      <th>3</th>\n",
       "      <td>alamo_drafthouse</td>\n",
       "      <td>1120 S Lamar Blvd, Austin, TX 78704, USA</td>\n",
       "    </tr>\n",
       "    <tr>\n",
       "      <th>4</th>\n",
       "      <td>paramount_theater</td>\n",
       "      <td>713 Congress Ave, Austin, TX 78701, USA</td>\n",
       "    </tr>\n",
       "  </tbody>\n",
       "</table>\n",
       "</div>"
      ],
      "text/plain": [
       "                       Name                                   Full_Address\n",
       "0                    utexas  110 Inner Campus Drive, Austin, TX 78705, USA\n",
       "1  austin_convention_center   500 E Cesar Chavez St, Austin, TX 78701, USA\n",
       "2               zilker_park  2100 Barton Springs Rd, Austin, TX 78704, USA\n",
       "3          alamo_drafthouse       1120 S Lamar Blvd, Austin, TX 78704, USA\n",
       "4         paramount_theater        713 Congress Ave, Austin, TX 78701, USA"
      ]
     },
     "execution_count": 75,
     "metadata": {},
     "output_type": "execute_result"
    }
   ],
   "source": [
    "addresses = pd.read_csv(path+'\\\\data\\\\addresses.csv')\n",
    "addresses['Full_Address'] = addresses['Full_Address'].astype(str)\n",
    "addresses.head()"
   ]
  },
  {
   "cell_type": "markdown",
   "metadata": {},
   "source": [
    "Need to ensure that the column with the address as a string for the Google Geocoder API to read it properly!"
   ]
  },
  {
   "cell_type": "code",
   "execution_count": 79,
   "metadata": {},
   "outputs": [],
   "source": [
    "addresses['long'] = ''\n",
    "addresses['lat'] = ''"
   ]
  },
  {
   "cell_type": "code",
   "execution_count": 80,
   "metadata": {},
   "outputs": [],
   "source": [
    "for x in range(len(addresses)):\n",
    "    try:\n",
    "        geocode_result = gmaps.geocode(addresses['Full_Address'][x])\n",
    "        addresses['lat'][x] = geocode_result[0]['geometry']['location']['lat']\n",
    "        addresses['long'][x] = geocode_result[0]['geometry']['location']['lng']\n",
    "    except IndexError:\n",
    "        print('Address was wrong...')\n",
    "    except Exception as e:\n",
    "        print('Unexpected error occurred.', e)"
   ]
  },
  {
   "cell_type": "code",
   "execution_count": 81,
   "metadata": {},
   "outputs": [
    {
     "data": {
      "text/plain": [
       "Name            object\n",
       "Full_Address    object\n",
       "long            object\n",
       "lat             object\n",
       "dtype: object"
      ]
     },
     "execution_count": 81,
     "metadata": {},
     "output_type": "execute_result"
    }
   ],
   "source": [
    "addresses.dtypes"
   ]
  },
  {
   "cell_type": "code",
   "execution_count": 82,
   "metadata": {},
   "outputs": [
    {
     "data": {
      "text/html": [
       "<div>\n",
       "<style scoped>\n",
       "    .dataframe tbody tr th:only-of-type {\n",
       "        vertical-align: middle;\n",
       "    }\n",
       "\n",
       "    .dataframe tbody tr th {\n",
       "        vertical-align: top;\n",
       "    }\n",
       "\n",
       "    .dataframe thead th {\n",
       "        text-align: right;\n",
       "    }\n",
       "</style>\n",
       "<table border=\"1\" class=\"dataframe\">\n",
       "  <thead>\n",
       "    <tr style=\"text-align: right;\">\n",
       "      <th></th>\n",
       "      <th>Name</th>\n",
       "      <th>Full_Address</th>\n",
       "      <th>long</th>\n",
       "      <th>lat</th>\n",
       "    </tr>\n",
       "  </thead>\n",
       "  <tbody>\n",
       "    <tr>\n",
       "      <th>0</th>\n",
       "      <td>utexas</td>\n",
       "      <td>110 Inner Campus Drive, Austin, TX 78705, USA</td>\n",
       "      <td>-97.7394</td>\n",
       "      <td>30.2861</td>\n",
       "    </tr>\n",
       "    <tr>\n",
       "      <th>1</th>\n",
       "      <td>austin_convention_center</td>\n",
       "      <td>500 E Cesar Chavez St, Austin, TX 78701, USA</td>\n",
       "      <td>-97.7393</td>\n",
       "      <td>30.2643</td>\n",
       "    </tr>\n",
       "    <tr>\n",
       "      <th>2</th>\n",
       "      <td>zilker_park</td>\n",
       "      <td>2100 Barton Springs Rd, Austin, TX 78704, USA</td>\n",
       "      <td>-97.7691</td>\n",
       "      <td>30.2661</td>\n",
       "    </tr>\n",
       "    <tr>\n",
       "      <th>3</th>\n",
       "      <td>alamo_drafthouse</td>\n",
       "      <td>1120 S Lamar Blvd, Austin, TX 78704, USA</td>\n",
       "      <td>-97.7636</td>\n",
       "      <td>30.2562</td>\n",
       "    </tr>\n",
       "    <tr>\n",
       "      <th>4</th>\n",
       "      <td>paramount_theater</td>\n",
       "      <td>713 Congress Ave, Austin, TX 78701, USA</td>\n",
       "      <td>-97.7419</td>\n",
       "      <td>30.2694</td>\n",
       "    </tr>\n",
       "  </tbody>\n",
       "</table>\n",
       "</div>"
      ],
      "text/plain": [
       "                       Name                                   Full_Address  \\\n",
       "0                    utexas  110 Inner Campus Drive, Austin, TX 78705, USA   \n",
       "1  austin_convention_center   500 E Cesar Chavez St, Austin, TX 78701, USA   \n",
       "2               zilker_park  2100 Barton Springs Rd, Austin, TX 78704, USA   \n",
       "3          alamo_drafthouse       1120 S Lamar Blvd, Austin, TX 78704, USA   \n",
       "4         paramount_theater        713 Congress Ave, Austin, TX 78701, USA   \n",
       "\n",
       "      long      lat  \n",
       "0 -97.7394  30.2861  \n",
       "1 -97.7393  30.2643  \n",
       "2 -97.7691  30.2661  \n",
       "3 -97.7636  30.2562  \n",
       "4 -97.7419  30.2694  "
      ]
     },
     "execution_count": 82,
     "metadata": {},
     "output_type": "execute_result"
    }
   ],
   "source": [
    "addresses.head()"
   ]
  },
  {
   "cell_type": "code",
   "execution_count": 83,
   "metadata": {},
   "outputs": [],
   "source": [
    "addresses.to_csv('address_coords.csv')"
   ]
  },
  {
   "cell_type": "code",
   "execution_count": null,
   "metadata": {},
   "outputs": [],
   "source": []
  }
 ],
 "metadata": {
  "kernelspec": {
   "display_name": "Python 3",
   "language": "python",
   "name": "python3"
  },
  "language_info": {
   "codemirror_mode": {
    "name": "ipython",
    "version": 3
   },
   "file_extension": ".py",
   "mimetype": "text/x-python",
   "name": "python",
   "nbconvert_exporter": "python",
   "pygments_lexer": "ipython3",
   "version": "3.7.6"
  }
 },
 "nbformat": 4,
 "nbformat_minor": 4
}
